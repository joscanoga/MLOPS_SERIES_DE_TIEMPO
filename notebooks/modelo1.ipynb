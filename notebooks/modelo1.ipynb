{
 "cells": [
  {
   "cell_type": "markdown",
   "id": "a9661910",
   "metadata": {},
   "source": [
    "# modelo 1\n"
   ]
  },
  {
   "cell_type": "code",
   "execution_count": null,
   "id": "7871e7cc",
   "metadata": {},
   "outputs": [],
   "source": [
    "#importaciones necesarias\n",
    "import pandas as pd"
   ]
  }
 ],
 "metadata": {
  "kernelspec": {
   "display_name": "test_tensorflow_gpu",
   "language": "python",
   "name": "python3"
  },
  "language_info": {
   "name": "python",
   "version": "3.7.13"
  }
 },
 "nbformat": 4,
 "nbformat_minor": 5
}
